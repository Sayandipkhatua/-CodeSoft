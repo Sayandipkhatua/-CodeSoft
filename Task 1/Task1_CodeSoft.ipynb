{
  "cells": [
    {
      "cell_type": "markdown",
      "metadata": {
        "id": "Vf8v6q4YKYGl"
      },
      "source": [
        "Sayandip Khatua"
      ]
    },
    {
      "cell_type": "code",
      "execution_count": 1,
      "metadata": {
        "id": "QIEqz_YVIAqh"
      },
      "outputs": [],
      "source": [
        "import numpy as np\n",
        "import pandas as pd"
      ]
    },
    {
      "cell_type": "code",
      "execution_count": 5,
      "metadata": {
        "colab": {
          "base_uri": "https://localhost:8080/"
        },
        "id": "swSqodsQIlDo",
        "outputId": "b73938fa-0f23-4fe7-a765-c839b78eec12"
      },
      "outputs": [
        {
          "name": "stdout",
          "output_type": "stream",
          "text": [
            "  id genre\n",
            "0  1   NaN\n",
            "1  2   NaN\n",
            "2  3   NaN\n",
            "3  4   NaN\n",
            "4  5   NaN\n"
          ]
        }
      ],
      "source": [
        "test_path = \"/content/test_data.txt\"\n",
        "solution_path = \"/content/test_data_solution.txt\"\n",
        "test_df = pd.read_csv(test_path, sep=\":::\", engine=\"python\", names=[\"id\", \"title\", \"plot\"])\n",
        "solution_df = pd.read_csv(solution_path, sep=\":::\", engine=\"python\", names=[\"id\", \"genre\"])\n",
        "test_df[\"id\"] = test_df[\"id\"].astype(str)\n",
        "solution_df[\"id\"] = solution_df[\"id\"].astype(str)\n",
        "submission = test_df[[\"id\"]].merge(solution_df, on=\"id\", how=\"left\")\n",
        "submission.to_csv(\"submission.csv\", index=False)\n",
        "print(submission.head())"
      ]
    },
    {
      "cell_type": "code",
      "execution_count": 6,
      "metadata": {
        "colab": {
          "base_uri": "https://localhost:8080/"
        },
        "id": "DSZgt0L0I80I",
        "outputId": "29589794-e30f-4493-c88c-d5b25906464b"
      },
      "outputs": [
        {
          "name": "stdout",
          "output_type": "stream",
          "text": [
            "Train shape: (54214, 3)\n",
            "Test shape: (54200, 2)\n",
            "                                   id       genre  \\\n",
            "1       Oscar et la dame rose (2009)       drama    \n",
            "2                       Cupid (1997)    thriller    \n",
            "3   Young, Wild and Wonderful (1980)       adult    \n",
            "4              The Secret Sin (1915)       drama    \n",
            "5             The Unrecovered (2007)       drama    \n",
            "\n",
            "                                         description  \n",
            "1   Listening in to a conversation between his do...  \n",
            "2   A brother and sister with a past incestuous r...  \n",
            "3   As the bus empties the students for their fie...  \n",
            "4   To help their unemployed father make ends mee...  \n",
            "5   The film's title refers not only to the un-re...  \n",
            "Train Accuracy: 0.5528276828863393\n",
            "submission.csv created!\n"
          ]
        }
      ],
      "source": [
        "import pandas as pd\n",
        "from sklearn.feature_extraction.text import TfidfVectorizer\n",
        "from sklearn.naive_bayes import MultinomialNB\n",
        "from sklearn.pipeline import Pipeline\n",
        "from sklearn.metrics import accuracy_score\n",
        "train_path = \"/content/train_data.txt\"\n",
        "test_path = \"/content/test_data.txt\"\n",
        "train_df = pd.read_csv(train_path, sep=':::', names=[\"id\", \"genre\", \"description\"], engine='python')\n",
        "test_df = pd.read_csv(test_path, sep=':::', names=[\"id\", \"description\"], engine='python')\n",
        "print(\"Train shape:\", train_df.shape)\n",
        "print(\"Test shape:\", test_df.shape)\n",
        "print(train_df.head())\n",
        "model = Pipeline([\n",
        "    (\"tfidf\", TfidfVectorizer(stop_words='english', max_features=5000)),\n",
        "    (\"nb\", MultinomialNB())\n",
        "])\n",
        "model.fit(train_df[\"description\"], train_df[\"genre\"])\n",
        "train_preds = model.predict(train_df[\"description\"])\n",
        "print(\"Train Accuracy:\", accuracy_score(train_df[\"genre\"], train_preds))\n",
        "test_preds = model.predict(test_df[\"description\"])\n",
        "submission = pd.DataFrame({\n",
        "    \"id\": test_df[\"id\"],\n",
        "    \"genre\": test_preds\n",
        "})\n",
        "\n",
        "submission.to_csv(\"submission.csv\", index=False)\n",
        "print(\"submission.csv created!\")"
      ]
    }
  ],
  "metadata": {
    "colab": {
      "provenance": []
    },
    "kernelspec": {
      "display_name": "Python 3",
      "name": "python3"
    },
    "language_info": {
      "codemirror_mode": {
        "name": "ipython",
        "version": 3
      },
      "file_extension": ".py",
      "mimetype": "text/x-python",
      "name": "python",
      "nbconvert_exporter": "python",
      "pygments_lexer": "ipython3",
      "version": "3.12.2"
    }
  },
  "nbformat": 4,
  "nbformat_minor": 0
}
