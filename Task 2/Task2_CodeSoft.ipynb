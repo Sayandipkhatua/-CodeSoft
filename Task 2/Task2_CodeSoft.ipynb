{
  "cells": [
    {
      "cell_type": "markdown",
      "metadata": {},
      "source": [
        "Sayandip Khatua"
      ]
    },
    {
      "cell_type": "code",
      "execution_count": null,
      "metadata": {
        "id": "tG76f1ebRAif"
      },
      "outputs": [],
      "source": [
        "import numpy as np\n",
        "import pandas as pd"
      ]
    },
    {
      "cell_type": "code",
      "execution_count": null,
      "metadata": {
        "colab": {
          "base_uri": "https://localhost:8080/"
        },
        "id": "CWr5ViW_RZPD",
        "outputId": "9212dbda-c5cb-42f2-dc2e-c8f9761103a2"
      },
      "outputs": [
        {
          "name": "stdout",
          "output_type": "stream",
          "text": [
            "Train shape: (151490, 23)\n",
            "Test shape: (159180, 23)\n",
            "   Unnamed: 0 trans_date_trans_time            cc_num  \\\n",
            "0           0   2019-01-01 00:00:18  2703186189652095   \n",
            "1           1   2019-01-01 00:00:44      630423337322   \n",
            "2           2   2019-01-01 00:00:51    38859492057661   \n",
            "3           3   2019-01-01 00:01:16  3534093764340240   \n",
            "4           4   2019-01-01 00:03:06   375534208663984   \n",
            "\n",
            "                             merchant       category     amt      first  \\\n",
            "0          fraud_Rippin, Kub and Mann       misc_net    4.97   Jennifer   \n",
            "1     fraud_Heller, Gutmann and Zieme    grocery_pos  107.23  Stephanie   \n",
            "2                fraud_Lind-Buckridge  entertainment  220.11     Edward   \n",
            "3  fraud_Kutch, Hermiston and Farrell  gas_transport   45.00     Jeremy   \n",
            "4                 fraud_Keeling-Crist       misc_pos   41.96      Tyler   \n",
            "\n",
            "      last gender                        street  ...      lat      long  \\\n",
            "0    Banks      F                561 Perry Cove  ...  36.0788  -81.1781   \n",
            "1     Gill      F  43039 Riley Greens Suite 393  ...  48.8878 -118.2105   \n",
            "2  Sanchez      M      594 White Dale Suite 530  ...  42.1808 -112.2620   \n",
            "3    White      M   9443 Cynthia Court Apt. 038  ...  46.2306 -112.1138   \n",
            "4   Garcia      M              408 Bradley Rest  ...  38.4207  -79.4629   \n",
            "\n",
            "   city_pop                                job         dob  \\\n",
            "0    3495.0          Psychologist, counselling  1988-03-09   \n",
            "1     149.0  Special educational needs teacher  1978-06-21   \n",
            "2    4154.0        Nature conservation officer  1962-01-19   \n",
            "3    1939.0                    Patent attorney  1967-01-12   \n",
            "4      99.0     Dance movement psychotherapist  1986-03-28   \n",
            "\n",
            "                          trans_num     unix_time  merch_lat  merch_long  \\\n",
            "0  0b242abb623afc578575680df30655b9  1.325376e+09  36.011293  -82.048315   \n",
            "1  1f76529f8574734946361c461b024d99  1.325376e+09  49.159047 -118.186462   \n",
            "2  a1a22d70485983eac12b5b88dad1cf95  1.325376e+09  43.150704 -112.154481   \n",
            "3  6b849c168bdad6f867558c3793159a81  1.325376e+09  47.034331 -112.561071   \n",
            "4  a41d7549acf90789359a9aa5346dcb46  1.325376e+09  38.674999  -78.632459   \n",
            "\n",
            "   is_fraud  \n",
            "0       0.0  \n",
            "1       0.0  \n",
            "2       0.0  \n",
            "3       0.0  \n",
            "4       0.0  \n",
            "\n",
            "[5 rows x 23 columns]\n",
            "Classification Report:\n",
            "              precision    recall  f1-score   support\n",
            "\n",
            "         0.0       1.00      1.00      1.00    158479\n",
            "         1.0       0.20      0.05      0.08       700\n",
            "\n",
            "    accuracy                           0.99    159179\n",
            "   macro avg       0.60      0.53      0.54    159179\n",
            "weighted avg       0.99      0.99      0.99    159179\n",
            "\n",
            "\n",
            "Confusion Matrix:\n",
            "[[158339    140]\n",
            " [   664     36]]\n"
          ]
        }
      ],
      "source": [
        "from sklearn.preprocessing import LabelEncoder\n",
        "from sklearn.ensemble import RandomForestClassifier\n",
        "from sklearn.metrics import classification_report, confusion_matrix\n",
        "\n",
        "train_path = \"/content/fraudTrain.csv\"\n",
        "test_path = \"/content/fraudTest.csv\"\n",
        "\n",
        "train_df = pd.read_csv(train_path)\n",
        "test_df = pd.read_csv(test_path)\n",
        "\n",
        "print(\"Train shape:\", train_df.shape)\n",
        "print(\"Test shape:\", test_df.shape)\n",
        "print(train_df.head())\n",
        "\n",
        "target = \"is_fraud\"\n",
        "\n",
        "drop_cols = [\"Unnamed: 0\", \"trans_date_trans_time\", \"dob\", \"first\", \"last\", \"street\", \"city\", \"state\", \"zip\", \"trans_num\", \"unix_time\", \"merchant\", \"category\", \"job\"]\n",
        "train_df = train_df.drop(columns=[col for col in drop_cols if col in train_df.columns])\n",
        "test_df = test_df.drop(columns=[col for col in drop_cols if col in test_df.columns])\n",
        "\n",
        "cat_cols = train_df.select_dtypes(include=['object']).columns\n",
        "le = LabelEncoder()\n",
        "for col in cat_cols:\n",
        "    train_df[col] = train_df[col].fillna('missing').astype(str)\n",
        "    test_df[col] = test_df[col].fillna('missing').astype(str)\n",
        "    train_df[col] = le.fit_transform(train_df[col])\n",
        "    test_df[col] = le.transform(test_df[col])\n",
        "\n",
        "\n",
        "\n",
        "train_df.dropna(subset=[target], inplace=True)\n",
        "test_df.dropna(subset=[target], inplace=True)\n",
        "\n",
        "\n",
        "X_train = train_df.drop(columns=[target])\n",
        "y_train = train_df[target]\n",
        "X_test = test_df.drop(columns=[target])\n",
        "y_test = test_df[target]\n",
        "\n",
        "\n",
        "model = RandomForestClassifier(n_estimators=200, random_state=42, class_weight=\"balanced\")\n",
        "model.fit(X_train, y_train)\n",
        "\n",
        "\n",
        "y_pred = model.predict(X_test)\n",
        "\n",
        "\n",
        "print(\"Classification Report:\")\n",
        "print(classification_report(y_test, y_pred))\n",
        "print(\"\\nConfusion Matrix:\")\n",
        "print(confusion_matrix(y_test, y_pred))"
      ]
    }
  ],
  "metadata": {
    "colab": {
      "provenance": []
    },
    "kernelspec": {
      "display_name": "Python 3",
      "name": "python3"
    },
    "language_info": {
      "name": "python",
      "version": "3.12.2"
    }
  },
  "nbformat": 4,
  "nbformat_minor": 0
}
